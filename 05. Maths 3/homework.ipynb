{
  "nbformat": 4,
  "nbformat_minor": 0,
  "metadata": {
    "colab": {
      "name": "TinkoffHW3.ipynb",
      "provenance": []
    },
    "kernelspec": {
      "name": "python3",
      "display_name": "Python 3"
    },
    "language_info": {
      "name": "python"
    }
  },
  "cells": [
    {
      "cell_type": "code",
      "source": [
        "import pandas as pd\n",
        "import numpy as np\n",
        "import matplotlib.pyplot as plt\n",
        "import seaborn as sns\n",
        "from sklearn.datasets import make_classification\n",
        "%matplotlib inline\n",
        "\n",
        "class LogReg():\n",
        "    def sigmoid(self,x): return 1/(1+np.exp(-x))\n",
        "    def __init__(self, batch_size=25, num_steps=350, lr=1e-2, features=2,lambda_=0.1,regularization=\"None\"):\n",
        "        self.features=features\n",
        "        self.weights=np.random.rand(features)\n",
        "        self.bias=0\n",
        "        self.regularization=regularization\n",
        "        self.lambda_=lambda_\n",
        "        self.batch_size = batch_size\n",
        "        self.num_steps = num_steps\n",
        "        self.lr = lr\n",
        "\n",
        "    def compute_cost(self,y,y_hat):\n",
        "        term1=np.sum(np.multiply(y,np.log(1-y_hat)))\n",
        "        term2=np.sum(np.multiply(1-y,np.log(y_hat)))\n",
        "        reg=0\n",
        "        if(self.regularization==\"L2\"):\n",
        "            reg=self.lambda_*sum((self.weights**2))\n",
        "        return -(term1+term2)/len(y)-reg\n",
        "    def fit(self,x,y,print_each=100):\n",
        "\n",
        "        n=x.shape[0]\n",
        "        for epoch in range(self.num_steps):\n",
        "\n",
        "            # sample_indices = np.random.randint(0, n_objects, size=self.batch_size)\n",
        "            y_hat = np.dot(x,self.weights)+self.bias\n",
        "            y_hat = self.sigmoid(y_hat)\n",
        "            diff = y-y_hat\n",
        "            grad_w = np.dot(x.T,diff)*self.lr/n\n",
        "            if(self.regularization==\"L2\"):\n",
        "                grad_w += self.lambda_*self.weights*2\n",
        "            self.weights -= grad_w\n",
        "            grad_b = np.sum(diff)*self.lr/n\n",
        "            self.bias -= grad_b\n",
        "            if((epoch+1)%print_each==0):\n",
        "                print(\"epoch {} -------> loss={}\".format((epoch+1),self.compute_cost(y,y_hat)))\n",
        "\n",
        "        return self\n",
        "\n",
        "    def evaluate(self,x,y):\n",
        "        pred=self.predict(x)\n",
        "        pred=np.where(pred>0.5,1,0)\n",
        "        diff=np.abs(y-pred)\n",
        "        return(sum(diff)/len(diff))\n",
        "\n",
        "    def predict(self,x):\n",
        "        return self.sigmoid(np.dot(x,self.weights)+self.bias)"
      ],
      "metadata": {
        "id": "QCo9l9NpvDHL"
      },
      "execution_count": 55,
      "outputs": []
    },
    {
      "cell_type": "code",
      "source": [
        "def visualize(model,title):\n",
        "    print(\"accuracy = {}\".format(model.evaluate(x_test,y_test)))\n",
        "    x1=np.arange(-5,6,0.2)\n",
        "    x2=np.arange(-5,4,0.2)\n",
        "    for i in range(len(x1)):\n",
        "        for j in range(len(x2)):\n",
        "            pred=model.predict([np.array(np.array([x1[i],x2[j]]))])[0]\n",
        "            if(pred>0.5):\n",
        "                plt.scatter(x1[i],x2[j],c=\"c\")\n",
        "            else:\n",
        "                plt.scatter(x1[i],x2[j],c=\"b\")\n",
        "    plt.title(title)\n",
        "    plt.show()\n",
        "\n",
        "# Generating and visualizing data \n",
        "x, y = make_classification(n_samples=1000, n_features=2, n_redundant=0, n_informative=1,\n",
        "                             n_clusters_per_class=1, random_state=14)\n",
        "\n",
        "sns.scatterplot(x[:,0],x[:,1],hue=y.reshape(-1))\n",
        "\n",
        "x_test=x[:500]\n",
        "y_test=y[:500]\n",
        "x=x[500:]\n",
        "y=y[500:]\n",
        "\n",
        "model1=LogReg(regularization=\"L2\",lambda_=0.01)\n",
        "model1.fit(x,y)\n",
        "visualize(model1,\"Ridge Regression\")"
      ],
      "metadata": {
        "colab": {
          "base_uri": "https://localhost:8080/",
          "height": 405
        },
        "id": "_eQJA4znvSYH",
        "outputId": "e9d320da-ecec-4b41-a0cc-2e9e2ec1186f"
      },
      "execution_count": 49,
      "outputs": [
        {
          "output_type": "stream",
          "name": "stderr",
          "text": [
            "/usr/local/lib/python3.7/dist-packages/seaborn/_decorators.py:43: FutureWarning: Pass the following variables as keyword args: x, y. From version 0.12, the only valid positional argument will be `data`, and passing other arguments without an explicit keyword will result in an error or misinterpretation.\n",
            "  FutureWarning\n"
          ]
        },
        {
          "output_type": "stream",
          "name": "stdout",
          "text": [
            "epoch 100 -------> loss=0.5919342863529399\n",
            "epoch 200 -------> loss=0.5628822338117073\n",
            "epoch 300 -------> loss=0.5578091600267046\n",
            "accuracy = 0.97\n"
          ]
        },
        {
          "output_type": "display_data",
          "data": {
            "text/plain": [
              "<Figure size 432x288 with 1 Axes>"
            ],
            "image/png": "[encoded data removed]"
          },
          "metadata": {
            "needs_background": "light"
          }
        }
      ]
    },
    {
      "cell_type": "code",
      "source": [
        "from sklearn.linear_model import Ridge\n",
        "from sklearn.preprocessing import StandardScaler\n",
        "from sklearn.metrics import r2_score\n",
        "\n",
        "#Генерация данных для тестирования\n",
        "n_features = 2\n",
        "n_objects = 1000\n",
        "\n",
        "w_true = np.random.uniform(-2, 2, (n_features, 1))\n",
        "\n",
        "# X = np.random.uniform(-100, 100, (n_objects, n_features)) * np.arange(n_features)\n",
        "# Y = X.dot(w_true) + np.random.normal(0, 10, (n_objects, 1))\n",
        "\n",
        "X, Y = make_classification(n_samples=1000, n_features=2, n_redundant=0, n_informative=1,\n",
        "                             n_clusters_per_class=1, random_state=14)"
      ],
      "metadata": {
        "id": "JwpsHV8Z3ljl"
      },
      "execution_count": 50,
      "outputs": []
    },
    {
      "cell_type": "code",
      "source": [
        "from sklearn.model_selection import train_test_split\n",
        "x_train, x_test, y_train, y_test = train_test_split(X, Y)\n",
        "scaler = StandardScaler()\n",
        "scaler.fit(x_train)\n",
        "x_scaled = scaler.transform(x_train)\n",
        "x_test_scaled = scaler.transform(x_test)"
      ],
      "metadata": {
        "id": "5w9jCCjZ3woV"
      },
      "execution_count": 51,
      "outputs": []
    },
    {
      "cell_type": "code",
      "source": [
        "own_model = LogReg(regularization=\"L2\",lambda_=0.01).fit(x_scaled, y_train)\n",
        "y_pred = own_model.predict(x_test_scaled)\n",
        "own_r2 = r2_score(y_test, y_pred)\n",
        "print(y_pred)\n",
        "sklearn_model = Ridge(alpha=0.01).fit(x_scaled, y_train)\n",
        "y_pred = sklearn_model.predict(x_test_scaled)\n",
        "print(y_pred)\n",
        "\n",
        "sklearn_r2 = r2_score(y_test, y_pred)\n",
        "\n",
        "print('R^2 in own model:', own_r2)\n",
        "print('R^2 in sklearn loss:', sklearn_r2)"
      ],
      "metadata": {
        "colab": {
          "base_uri": "https://localhost:8080/"
        },
        "id": "gma4T6DS3013",
        "outputId": "389d47dd-0f13-4e17-ee11-4275c334b2e7"
      },
      "execution_count": 57,
      "outputs": [
        {
          "output_type": "stream",
          "name": "stdout",
          "text": [
            "epoch 100 -------> loss=0.610938345220289\n",
            "epoch 200 -------> loss=0.5943563806989165\n",
            "epoch 300 -------> loss=0.5916715919186537\n",
            "[0.58284996 0.58427837 0.51276134 0.44035161 0.58435415 0.54557807\n",
            " 0.56097768 0.55256172 0.4770361  0.46747397 0.48381829 0.52902883\n",
            " 0.42619427 0.48695355 0.42018203 0.41744804 0.44088248 0.43119468\n",
            " 0.42571922 0.50272541 0.43079312 0.4478592  0.59901316 0.57879947\n",
            " 0.57279067 0.46053703 0.46093158 0.53998576 0.57112364 0.61398291\n",
            " 0.60522266 0.45480159 0.41137367 0.4438612  0.57145229 0.47967422\n",
            " 0.5660782  0.57031741 0.57191546 0.52698973 0.55731367 0.57018536\n",
            " 0.54389768 0.48408253 0.42287463 0.47324556 0.45847071 0.45542829\n",
            " 0.46101589 0.41589371 0.50261031 0.45688737 0.53467437 0.47656804\n",
            " 0.5644473  0.40785035 0.44316382 0.53913459 0.50030383 0.43774967\n",
            " 0.40743497 0.47701974 0.49431493 0.45209274 0.61140846 0.5586172\n",
            " 0.56998579 0.45890888 0.53685053 0.48909837 0.46290073 0.43333167\n",
            " 0.59198893 0.56582434 0.57452093 0.55805303 0.49034463 0.51799566\n",
            " 0.54978668 0.46894461 0.44653928 0.54367164 0.49760927 0.45595173\n",
            " 0.43678018 0.55261047 0.5613928  0.48367534 0.54589838 0.44841498\n",
            " 0.44887608 0.53535061 0.402801   0.54998548 0.42656049 0.57240864\n",
            " 0.46641944 0.47112383 0.4510038  0.46050615 0.55111678 0.4424238\n",
            " 0.46417343 0.42360717 0.53041056 0.61160484 0.42888125 0.4821398\n",
            " 0.58152862 0.54052747 0.58764586 0.57518217 0.4643203  0.54638038\n",
            " 0.54530025 0.52157654 0.45865823 0.5080103  0.48188256 0.59548991\n",
            " 0.44085955 0.43889762 0.48450736 0.58803821 0.43380732 0.61069157\n",
            " 0.47798957 0.42885976 0.57245317 0.55622232 0.56013946 0.55345831\n",
            " 0.52145929 0.42580761 0.45620635 0.53718266 0.48945381 0.53769199\n",
            " 0.43934037 0.44614605 0.4904911  0.40413682 0.44104179 0.56117082\n",
            " 0.41438086 0.45130618 0.46553139 0.44219546 0.56270473 0.54176433\n",
            " 0.47687911 0.4364092  0.44007725 0.48991769 0.48605871 0.43542601\n",
            " 0.45965632 0.41787413 0.54555813 0.55712072 0.59766291 0.53285696\n",
            " 0.55487604 0.45973382 0.52869984 0.41241242 0.50682649 0.55091941\n",
            " 0.51676684 0.44689065 0.55842855 0.55497509 0.54713853 0.5111112\n",
            " 0.53832813 0.48041511 0.51335872 0.56695038 0.47844101 0.47719213\n",
            " 0.43121692 0.56045668 0.47629277 0.5833959  0.57634881 0.54878077\n",
            " 0.55182634 0.51568769 0.45708951 0.59363422 0.57962805 0.42511633\n",
            " 0.41812414 0.56177606 0.47956488 0.54422639 0.46524568 0.46712782\n",
            " 0.44952477 0.47579833 0.4309836  0.49398425 0.42209709 0.54056084\n",
            " 0.4638334  0.46292948 0.58171379 0.44409731 0.60675746 0.58752115\n",
            " 0.5224766  0.44594127 0.41369887 0.54000447 0.57032605 0.45668275\n",
            " 0.4352725  0.59872882 0.47841872 0.57465284 0.57435054 0.46066531\n",
            " 0.5419547  0.51822097 0.48516296 0.56410604 0.58204077 0.47266303\n",
            " 0.43461696 0.5659377  0.48535314 0.53583694 0.57260869 0.48339975\n",
            " 0.54584132 0.4336869  0.5033557  0.62731158 0.46241922 0.45860155\n",
            " 0.56971474 0.44750251 0.51428062 0.58879427 0.41677825 0.55809461\n",
            " 0.42671912 0.53852365 0.49426705 0.57175646]\n",
            "[-0.04987269 -0.06149597  0.44401046  0.96671369 -0.05063555  0.21133677\n",
            "  0.11152292  0.15676883  0.68602711  0.76066911  0.65056975  0.3292361\n",
            "  1.05746581  0.61943416  1.09533968  1.12242111  0.95270877  1.0233625\n",
            "  1.06071125  0.50497472  1.01855147  0.90199734 -0.17266072 -0.01564224\n",
            "  0.01142156  0.81072054  0.80243739  0.24356932  0.02631547 -0.27718598\n",
            " -0.22095228  0.85777422  1.16144339  0.92839253  0.01701646  0.68012404\n",
            "  0.05517664  0.03437128  0.01891084  0.35151482  0.13503148  0.03655488\n",
            "  0.22352159  0.65307865  1.06537078  0.73105765  0.83005323  0.84976078\n",
            "  0.8011182   1.12162912  0.51714303  0.85278027  0.29568714  0.69880274\n",
            "  0.07085566  1.18835071  0.94352998  0.26162637  0.53351075  0.98253657\n",
            "  1.19728935  0.68395232  0.58358661  0.87672313 -0.2548568   0.11680831\n",
            "  0.02666981  0.8266547   0.26789306  0.62081     0.79647114  1.00100287\n",
            " -0.12102256  0.06758763  0.00417635  0.11985663  0.60503599  0.40334221\n",
            "  0.18430965  0.7486578   0.92405131  0.23737478  0.55796383  0.85096221\n",
            "  0.97931084  0.16339443  0.10396793  0.64438878  0.213125    0.90244958\n",
            "  0.89940008  0.28703952  1.22199187  0.17165749  1.05364064  0.02403677\n",
            "  0.76915233  0.74942126  0.8828254   0.80379434  0.18544547  0.9336975\n",
            "  0.80339509  1.07322555  0.33288414 -0.26054493  1.04256078  0.65046742\n",
            " -0.05117699  0.25302096 -0.08842626 -0.00392598  0.78660975  0.21846707\n",
            "  0.20592827  0.38012052  0.82143825  0.48824435  0.66953983 -0.15814778\n",
            "  0.94516595  0.9636172   0.63012907 -0.09231554  0.99608925 -0.26265425\n",
            "  0.68504898  1.04065142  0.0183661   0.14360071  0.11414573  0.15778398\n",
            "  0.38012194  1.05843965  0.83774696  0.28046417  0.6128917   0.26629604\n",
            "  0.97342976  0.9222631   0.60253484  1.21243475  0.95091068  0.10601585\n",
            "  1.14466215  0.87490235  0.76634774  0.9413892   0.09098112  0.24222061\n",
            "  0.70046594  0.98722346  0.95834302  0.60224094  0.63842043  0.98949661\n",
            "  0.82071262  1.122404    0.21311704  0.13321977 -0.1613446   0.29279786\n",
            "  0.14468282  0.81049242  0.32556284  1.15210666  0.49276793  0.1753814\n",
            "  0.40899519  0.91176822  0.11619179  0.14423802  0.19394535  0.44981604\n",
            "  0.27242411  0.66847512  0.4521537   0.05014739  0.679608    0.68780207\n",
            "  1.0255848   0.10843947  0.7094379  -0.05335273  0.01025872  0.19159742\n",
            "  0.16223542  0.42738443  0.83785027 -0.13173332 -0.02329512  1.06096176\n",
            "  1.10826541  0.10235188  0.6665595   0.2228552   0.77753045  0.78179718\n",
            "  0.89833022  0.69925736  1.01930187  0.57300982  1.08230876  0.25230027\n",
            "  0.79266997  0.7905188  -0.04226964  0.93776938 -0.23628987 -0.08759248\n",
            "  0.37977743  0.90909045  1.15027387  0.24769802  0.04607353  0.84675865\n",
            "  0.99710663 -0.17261675  0.6910144   0.01065506  0.01751429  0.80653381\n",
            "  0.24542818  0.41017581  0.63913913  0.08473495 -0.0463278   0.73119147\n",
            "  0.99724924  0.07674467  0.62902909  0.28839984  0.01533269  0.64305532\n",
            "  0.20814337  1.00103756  0.4953791  -0.37147284  0.79632118  0.82618116\n",
            "  0.04743386  0.89579224  0.42167723 -0.08765491  1.13129499  0.13499022\n",
            "  1.04430264  0.27043511  0.58333176  0.02276178]\n",
            "R^2 in own model: -0.215208575458409\n",
            "R^2 in sklearn loss: 0.756490744589386\n"
          ]
        }
      ]
    }
  ]
}