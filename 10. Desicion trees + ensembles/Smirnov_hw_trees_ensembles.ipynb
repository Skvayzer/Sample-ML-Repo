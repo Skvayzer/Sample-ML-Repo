{
  "nbformat": 4,
  "nbformat_minor": 0,
  "metadata": {
    "colab": {
      "name": "hw_trees_ensembles.ipynb",
      "provenance": [],
      "collapsed_sections": []
    },
    "kernelspec": {
      "name": "python3",
      "display_name": "Python 3"
    }
  },
  "cells": [
    {
      "cell_type": "markdown",
      "metadata": {
        "id": "EADmNKm_ucFI"
      },
      "source": [
        "## Homework"
      ]
    },
    {
      "cell_type": "code",
      "metadata": {
        "id": "wjurpt4KJmCh",
        "colab": {
          "base_uri": "https://localhost:8080/"
        },
        "outputId": "b7e6a622-246a-43e6-f8b1-ce14f3081af1"
      },
      "source": [
        "!wget --no-check-certificate 'https://docs.google.com/uc?export=download&id=1OKFSv2GpuUFDphO0r8LdM7bl6MAWwBfX' -O data.csv"
      ],
      "execution_count": 3,
      "outputs": [
        {
          "output_type": "stream",
          "name": "stdout",
          "text": [
            "--2022-05-11 18:48:24--  https://docs.google.com/uc?export=download&id=1OKFSv2GpuUFDphO0r8LdM7bl6MAWwBfX\n",
            "Resolving docs.google.com (docs.google.com)... 74.125.134.100, 74.125.134.138, 74.125.134.101, ...\n",
            "Connecting to docs.google.com (docs.google.com)|74.125.134.100|:443... connected.\n",
            "HTTP request sent, awaiting response... 303 See Other\n",
            "Location: https://doc-04-ak-docs.googleusercontent.com/docs/securesc/ha0ro937gcuc7l7deffksulhg5h7mbp1/hpftm73uj02i3ug2vlb1oeglqm1ffqkl/1652294850000/03856158561714992485/*/1OKFSv2GpuUFDphO0r8LdM7bl6MAWwBfX?e=download [following]\n",
            "Warning: wildcards not supported in HTTP.\n",
            "--2022-05-11 18:48:26--  https://doc-04-ak-docs.googleusercontent.com/docs/securesc/ha0ro937gcuc7l7deffksulhg5h7mbp1/hpftm73uj02i3ug2vlb1oeglqm1ffqkl/1652294850000/03856158561714992485/*/1OKFSv2GpuUFDphO0r8LdM7bl6MAWwBfX?e=download\n",
            "Resolving doc-04-ak-docs.googleusercontent.com (doc-04-ak-docs.googleusercontent.com)... 142.250.97.132, 2607:f8b0:400c:c18::84\n",
            "Connecting to doc-04-ak-docs.googleusercontent.com (doc-04-ak-docs.googleusercontent.com)|142.250.97.132|:443... connected.\n",
            "HTTP request sent, awaiting response... 200 OK\n",
            "Length: 33322228 (32M) [text/csv]\n",
            "Saving to: ‘data.csv’\n",
            "\n",
            "data.csv            100%[===================>]  31.78M   127MB/s    in 0.3s    \n",
            "\n",
            "2022-05-11 18:48:26 (127 MB/s) - ‘data.csv’ saved [33322228/33322228]\n",
            "\n"
          ]
        }
      ]
    },
    {
      "cell_type": "markdown",
      "metadata": {
        "id": "UBAI5LS2xBSm"
      },
      "source": [
        "В этой домашней работе вы будете предсказывать стоимость домов по их характеристикам.\n",
        "\n",
        "Метрика качества: `RMSE`\n",
        "\n",
        "Оценивание:\n",
        "* Baseline - 2 балла\n",
        "* Feature Engineering - 2 балла\n",
        "* Model Selection - 3 балла\n",
        "* Ensemble v.1 - 3 балла\n",
        "* (*) Ensemble v.2 - дополнительно, 2 балла"
      ]
    },
    {
      "cell_type": "markdown",
      "metadata": {
        "id": "aBZhr_dw6HAn"
      },
      "source": [
        "### Описание датасета\n",
        "\n",
        "Короткое описание данных:\n",
        "```\n",
        "price: sale price (this is the target variable)\n",
        "id: transaction id\n",
        "timestamp: date of transaction\n",
        "full_sq: total area in square meters, including loggias, balconies and other non-residential areas\n",
        "life_sq: living area in square meters, excluding loggias, balconies and other non-residential areas\n",
        "floor: for apartments, floor of the building\n",
        "max_floor: number of floors in the building\n",
        "material: wall material\n",
        "build_year: year built\n",
        "num_room: number of living rooms\n",
        "kitch_sq: kitchen area\n",
        "state: apartment condition\n",
        "product_type: owner-occupier purchase or investment\n",
        "sub_area: name of the district\n",
        "\n",
        "The dataset also includes a collection of features about each property's surrounding neighbourhood, and some features that are constant across each sub area (known as a Raion). Most of the feature names are self explanatory, with the following notes. See below for a complete list.\n",
        "\n",
        "full_all: subarea population\n",
        "male_f, female_f: subarea population by gender\n",
        "young_*: population younger than working age\n",
        "work_*: working-age population\n",
        "ekder_*: retirement-age population\n",
        "n_m_{all|male|female}: population between n and m years old\n",
        "build_count_*: buildings in the subarea by construction type or year\n",
        "x_count_500: the number of x within 500m of the property\n",
        "x_part_500: the share of x within 500m of the property\n",
        "_sqm_: square meters\n",
        "cafe_count_d_price_p: number of cafes within d meters of the property that have an average bill under p RUB\n",
        "trc_: shopping malls\n",
        "prom_: industrial zones\n",
        "green_: green zones\n",
        "metro_: subway\n",
        "_avto_: distances by car\n",
        "mkad_: Moscow Circle Auto Road\n",
        "ttk_: Third Transport Ring\n",
        "sadovoe_: Garden Ring\n",
        "bulvar_ring_: Boulevard Ring\n",
        "kremlin_: City center\n",
        "zd_vokzaly_: Train station\n",
        "oil_chemistry_: Dirty industry\n",
        "ts_: Power plant\n",
        "```"
      ]
    },
    {
      "cell_type": "markdown",
      "metadata": {
        "id": "TOPtM_06uyqv"
      },
      "source": [
        "### Setup"
      ]
    },
    {
      "cell_type": "code",
      "metadata": {
        "id": "9TpHMcn3u0MV"
      },
      "source": [
        "import pandas as pd"
      ],
      "execution_count": 4,
      "outputs": []
    },
    {
      "cell_type": "code",
      "metadata": {
        "id": "-TLkVG3EwJzj",
        "colab": {
          "base_uri": "https://localhost:8080/",
          "height": 488
        },
        "outputId": "022e9247-0761-472c-b671-3da8616b47d1"
      },
      "source": [
        "df = pd.read_csv(\"data.csv\", parse_dates=[\"timestamp\"])\n",
        "df"
      ],
      "execution_count": 5,
      "outputs": [
        {
          "output_type": "execute_result",
          "data": {
            "text/plain": [
              "          id  timestamp  full_sq  life_sq  floor  max_floor  material  \\\n",
              "0          0 2014-12-26        1      1.0    1.0        1.0       1.0   \n",
              "1          1 2012-10-04       64     64.0   16.0        NaN       NaN   \n",
              "2          2 2014-02-05       83     44.0    9.0       17.0       1.0   \n",
              "3          3 2012-07-26       71     49.0    2.0        NaN       NaN   \n",
              "4          4 2014-10-29       60     42.0    9.0        9.0       1.0   \n",
              "...      ...        ...      ...      ...    ...        ...       ...   \n",
              "19995  19995 2014-09-22       45     27.0    2.0        9.0       1.0   \n",
              "19996  19996 2013-12-06       38      NaN    4.0       17.0       1.0   \n",
              "19997  19997 2014-06-26       35     14.0    9.0       22.0       1.0   \n",
              "19998  19998 2014-01-21       51     30.0    8.0       17.0       1.0   \n",
              "19999  19999 2012-04-09       54     32.0    9.0        NaN       NaN   \n",
              "\n",
              "       build_year  num_room  kitch_sq  ...  cafe_count_5000_price_2500  \\\n",
              "0             1.0       1.0       1.0  ...                          36   \n",
              "1             NaN       NaN       NaN  ...                           2   \n",
              "2          1985.0       3.0      10.0  ...                          13   \n",
              "3             NaN       NaN       NaN  ...                           0   \n",
              "4          1970.0       3.0       6.0  ...                           3   \n",
              "...           ...       ...       ...  ...                         ...   \n",
              "19995      1978.0       2.0       5.0  ...                           9   \n",
              "19996         NaN       2.0       1.0  ...                           2   \n",
              "19997      2001.0       1.0      10.0  ...                          13   \n",
              "19998      2011.0       2.0       9.0  ...                           1   \n",
              "19999         NaN       NaN       NaN  ...                          23   \n",
              "\n",
              "      cafe_count_5000_price_4000 cafe_count_5000_price_high  \\\n",
              "0                              7                          2   \n",
              "1                              2                          0   \n",
              "2                              6                          1   \n",
              "3                              0                          0   \n",
              "4                              1                          0   \n",
              "...                          ...                        ...   \n",
              "19995                          0                          0   \n",
              "19996                          2                          0   \n",
              "19997                          3                          0   \n",
              "19998                          0                          0   \n",
              "19999                          1                          1   \n",
              "\n",
              "       big_church_count_5000  church_count_5000  mosque_count_5000  \\\n",
              "0                         15                 33                  1   \n",
              "1                          0                 13                  1   \n",
              "2                          8                 18                  0   \n",
              "3                          1                  3                  0   \n",
              "4                          5                  8                  0   \n",
              "...                      ...                ...                ...   \n",
              "19995                      6                 29                  0   \n",
              "19996                      1                 12                  1   \n",
              "19997                      6                 27                  1   \n",
              "19998                      0                  7                  0   \n",
              "19999                      5                 30                  1   \n",
              "\n",
              "       leisure_count_5000  sport_count_5000  market_count_5000     price  \n",
              "0                      12                75                 10  15318960  \n",
              "1                       0                 6                  1   6080000  \n",
              "2                       1                52                  0  17000000  \n",
              "3                       2                 8                  2    990000  \n",
              "4                       1                34                  5   7900000  \n",
              "...                   ...               ...                ...       ...  \n",
              "19995                   1                46                 10   7200000  \n",
              "19996                   0                 8                  0   3971520  \n",
              "19997                  10                57                 13   7200000  \n",
              "19998                   0                 3                  0   3300000  \n",
              "19999                   4                62                  7   8700000  \n",
              "\n",
              "[20000 rows x 292 columns]"
            ],
            "text/html": [
              "\n",
              "  <div id=\"df-b26d987b-caa2-4264-9185-999b0def59e4\">\n",
              "    <div class=\"colab-df-container\">\n",
              "      <div>\n",
              "<style scoped>\n",
              "    .dataframe tbody tr th:only-of-type {\n",
              "        vertical-align: middle;\n",
              "    }\n",
              "\n",
              "    .dataframe tbody tr th {\n",
              "        vertical-align: top;\n",
              "    }\n",
              "\n",
              "    .dataframe thead th {\n",
              "        text-align: right;\n",
              "    }\n",
              "</style>\n",
              "<table border=\"1\" class=\"dataframe\">\n",
              "  <thead>\n",
              "    <tr style=\"text-align: right;\">\n",
              "      <th></th>\n",
              "      <th>id</th>\n",
              "      <th>timestamp</th>\n",
              "      <th>full_sq</th>\n",
              "      <th>life_sq</th>\n",
              "      <th>floor</th>\n",
              "      <th>max_floor</th>\n",
              "      <th>material</th>\n",
              "      <th>build_year</th>\n",
              "      <th>num_room</th>\n",
              "      <th>kitch_sq</th>\n",
              "      <th>...</th>\n",
              "      <th>cafe_count_5000_price_2500</th>\n",
              "      <th>cafe_count_5000_price_4000</th>\n",
              "      <th>cafe_count_5000_price_high</th>\n",
              "      <th>big_church_count_5000</th>\n",
              "      <th>church_count_5000</th>\n",
              "      <th>mosque_count_5000</th>\n",
              "      <th>leisure_count_5000</th>\n",
              "      <th>sport_count_5000</th>\n",
              "      <th>market_count_5000</th>\n",
              "      <th>price</th>\n",
              "    </tr>\n",
              "  </thead>\n",
              "  <tbody>\n",
              "    <tr>\n",
              "      <th>0</th>\n",
              "      <td>0</td>\n",
              "      <td>2014-12-26</td>\n",
              "      <td>1</td>\n",
              "      <td>1.0</td>\n",
              "      <td>1.0</td>\n",
              "      <td>1.0</td>\n",
              "      <td>1.0</td>\n",
              "      <td>1.0</td>\n",
              "      <td>1.0</td>\n",
              "      <td>1.0</td>\n",
              "      <td>...</td>\n",
              "      <td>36</td>\n",
              "      <td>7</td>\n",
              "      <td>2</td>\n",
              "      <td>15</td>\n",
              "      <td>33</td>\n",
              "      <td>1</td>\n",
              "      <td>12</td>\n",
              "      <td>75</td>\n",
              "      <td>10</td>\n",
              "      <td>15318960</td>\n",
              "    </tr>\n",
              "    <tr>\n",
              "      <th>1</th>\n",
              "      <td>1</td>\n",
              "      <td>2012-10-04</td>\n",
              "      <td>64</td>\n",
              "      <td>64.0</td>\n",
              "      <td>16.0</td>\n",
              "      <td>NaN</td>\n",
              "      <td>NaN</td>\n",
              "      <td>NaN</td>\n",
              "      <td>NaN</td>\n",
              "      <td>NaN</td>\n",
              "      <td>...</td>\n",
              "      <td>2</td>\n",
              "      <td>2</td>\n",
              "      <td>0</td>\n",
              "      <td>0</td>\n",
              "      <td>13</td>\n",
              "      <td>1</td>\n",
              "      <td>0</td>\n",
              "      <td>6</td>\n",
              "      <td>1</td>\n",
              "      <td>6080000</td>\n",
              "    </tr>\n",
              "    <tr>\n",
              "      <th>2</th>\n",
              "      <td>2</td>\n",
              "      <td>2014-02-05</td>\n",
              "      <td>83</td>\n",
              "      <td>44.0</td>\n",
              "      <td>9.0</td>\n",
              "      <td>17.0</td>\n",
              "      <td>1.0</td>\n",
              "      <td>1985.0</td>\n",
              "      <td>3.0</td>\n",
              "      <td>10.0</td>\n",
              "      <td>...</td>\n",
              "      <td>13</td>\n",
              "      <td>6</td>\n",
              "      <td>1</td>\n",
              "      <td>8</td>\n",
              "      <td>18</td>\n",
              "      <td>0</td>\n",
              "      <td>1</td>\n",
              "      <td>52</td>\n",
              "      <td>0</td>\n",
              "      <td>17000000</td>\n",
              "    </tr>\n",
              "    <tr>\n",
              "      <th>3</th>\n",
              "      <td>3</td>\n",
              "      <td>2012-07-26</td>\n",
              "      <td>71</td>\n",
              "      <td>49.0</td>\n",
              "      <td>2.0</td>\n",
              "      <td>NaN</td>\n",
              "      <td>NaN</td>\n",
              "      <td>NaN</td>\n",
              "      <td>NaN</td>\n",
              "      <td>NaN</td>\n",
              "      <td>...</td>\n",
              "      <td>0</td>\n",
              "      <td>0</td>\n",
              "      <td>0</td>\n",
              "      <td>1</td>\n",
              "      <td>3</td>\n",
              "      <td>0</td>\n",
              "      <td>2</td>\n",
              "      <td>8</td>\n",
              "      <td>2</td>\n",
              "      <td>990000</td>\n",
              "    </tr>\n",
              "    <tr>\n",
              "      <th>4</th>\n",
              "      <td>4</td>\n",
              "      <td>2014-10-29</td>\n",
              "      <td>60</td>\n",
              "      <td>42.0</td>\n",
              "      <td>9.0</td>\n",
              "      <td>9.0</td>\n",
              "      <td>1.0</td>\n",
              "      <td>1970.0</td>\n",
              "      <td>3.0</td>\n",
              "      <td>6.0</td>\n",
              "      <td>...</td>\n",
              "      <td>3</td>\n",
              "      <td>1</td>\n",
              "      <td>0</td>\n",
              "      <td>5</td>\n",
              "      <td>8</td>\n",
              "      <td>0</td>\n",
              "      <td>1</td>\n",
              "      <td>34</td>\n",
              "      <td>5</td>\n",
              "      <td>7900000</td>\n",
              "    </tr>\n",
              "    <tr>\n",
              "      <th>...</th>\n",
              "      <td>...</td>\n",
              "      <td>...</td>\n",
              "      <td>...</td>\n",
              "      <td>...</td>\n",
              "      <td>...</td>\n",
              "      <td>...</td>\n",
              "      <td>...</td>\n",
              "      <td>...</td>\n",
              "      <td>...</td>\n",
              "      <td>...</td>\n",
              "      <td>...</td>\n",
              "      <td>...</td>\n",
              "      <td>...</td>\n",
              "      <td>...</td>\n",
              "      <td>...</td>\n",
              "      <td>...</td>\n",
              "      <td>...</td>\n",
              "      <td>...</td>\n",
              "      <td>...</td>\n",
              "      <td>...</td>\n",
              "      <td>...</td>\n",
              "    </tr>\n",
              "    <tr>\n",
              "      <th>19995</th>\n",
              "      <td>19995</td>\n",
              "      <td>2014-09-22</td>\n",
              "      <td>45</td>\n",
              "      <td>27.0</td>\n",
              "      <td>2.0</td>\n",
              "      <td>9.0</td>\n",
              "      <td>1.0</td>\n",
              "      <td>1978.0</td>\n",
              "      <td>2.0</td>\n",
              "      <td>5.0</td>\n",
              "      <td>...</td>\n",
              "      <td>9</td>\n",
              "      <td>0</td>\n",
              "      <td>0</td>\n",
              "      <td>6</td>\n",
              "      <td>29</td>\n",
              "      <td>0</td>\n",
              "      <td>1</td>\n",
              "      <td>46</td>\n",
              "      <td>10</td>\n",
              "      <td>7200000</td>\n",
              "    </tr>\n",
              "    <tr>\n",
              "      <th>19996</th>\n",
              "      <td>19996</td>\n",
              "      <td>2013-12-06</td>\n",
              "      <td>38</td>\n",
              "      <td>NaN</td>\n",
              "      <td>4.0</td>\n",
              "      <td>17.0</td>\n",
              "      <td>1.0</td>\n",
              "      <td>NaN</td>\n",
              "      <td>2.0</td>\n",
              "      <td>1.0</td>\n",
              "      <td>...</td>\n",
              "      <td>2</td>\n",
              "      <td>2</td>\n",
              "      <td>0</td>\n",
              "      <td>1</td>\n",
              "      <td>12</td>\n",
              "      <td>1</td>\n",
              "      <td>0</td>\n",
              "      <td>8</td>\n",
              "      <td>0</td>\n",
              "      <td>3971520</td>\n",
              "    </tr>\n",
              "    <tr>\n",
              "      <th>19997</th>\n",
              "      <td>19997</td>\n",
              "      <td>2014-06-26</td>\n",
              "      <td>35</td>\n",
              "      <td>14.0</td>\n",
              "      <td>9.0</td>\n",
              "      <td>22.0</td>\n",
              "      <td>1.0</td>\n",
              "      <td>2001.0</td>\n",
              "      <td>1.0</td>\n",
              "      <td>10.0</td>\n",
              "      <td>...</td>\n",
              "      <td>13</td>\n",
              "      <td>3</td>\n",
              "      <td>0</td>\n",
              "      <td>6</td>\n",
              "      <td>27</td>\n",
              "      <td>1</td>\n",
              "      <td>10</td>\n",
              "      <td>57</td>\n",
              "      <td>13</td>\n",
              "      <td>7200000</td>\n",
              "    </tr>\n",
              "    <tr>\n",
              "      <th>19998</th>\n",
              "      <td>19998</td>\n",
              "      <td>2014-01-21</td>\n",
              "      <td>51</td>\n",
              "      <td>30.0</td>\n",
              "      <td>8.0</td>\n",
              "      <td>17.0</td>\n",
              "      <td>1.0</td>\n",
              "      <td>2011.0</td>\n",
              "      <td>2.0</td>\n",
              "      <td>9.0</td>\n",
              "      <td>...</td>\n",
              "      <td>1</td>\n",
              "      <td>0</td>\n",
              "      <td>0</td>\n",
              "      <td>0</td>\n",
              "      <td>7</td>\n",
              "      <td>0</td>\n",
              "      <td>0</td>\n",
              "      <td>3</td>\n",
              "      <td>0</td>\n",
              "      <td>3300000</td>\n",
              "    </tr>\n",
              "    <tr>\n",
              "      <th>19999</th>\n",
              "      <td>19999</td>\n",
              "      <td>2012-04-09</td>\n",
              "      <td>54</td>\n",
              "      <td>32.0</td>\n",
              "      <td>9.0</td>\n",
              "      <td>NaN</td>\n",
              "      <td>NaN</td>\n",
              "      <td>NaN</td>\n",
              "      <td>NaN</td>\n",
              "      <td>NaN</td>\n",
              "      <td>...</td>\n",
              "      <td>23</td>\n",
              "      <td>1</td>\n",
              "      <td>1</td>\n",
              "      <td>5</td>\n",
              "      <td>30</td>\n",
              "      <td>1</td>\n",
              "      <td>4</td>\n",
              "      <td>62</td>\n",
              "      <td>7</td>\n",
              "      <td>8700000</td>\n",
              "    </tr>\n",
              "  </tbody>\n",
              "</table>\n",
              "<p>20000 rows × 292 columns</p>\n",
              "</div>\n",
              "      <button class=\"colab-df-convert\" onclick=\"convertToInteractive('df-b26d987b-caa2-4264-9185-999b0def59e4')\"\n",
              "              title=\"Convert this dataframe to an interactive table.\"\n",
              "              style=\"display:none;\">\n",
              "        \n",
              "  <svg xmlns=\"http://www.w3.org/2000/svg\" height=\"24px\"viewBox=\"0 0 24 24\"\n",
              "       width=\"24px\">\n",
              "    <path d=\"M0 0h24v24H0V0z\" fill=\"none\"/>\n",
              "    <path d=\"M18.56 5.44l.94 2.06.94-2.06 2.06-.94-2.06-.94-.94-2.06-.94 2.06-2.06.94zm-11 1L8.5 8.5l.94-2.06 2.06-.94-2.06-.94L8.5 2.5l-.94 2.06-2.06.94zm10 10l.94 2.06.94-2.06 2.06-.94-2.06-.94-.94-2.06-.94 2.06-2.06.94z\"/><path d=\"M17.41 7.96l-1.37-1.37c-.4-.4-.92-.59-1.43-.59-.52 0-1.04.2-1.43.59L10.3 9.45l-7.72 7.72c-.78.78-.78 2.05 0 2.83L4 21.41c.39.39.9.59 1.41.59.51 0 1.02-.2 1.41-.59l7.78-7.78 2.81-2.81c.8-.78.8-2.07 0-2.86zM5.41 20L4 18.59l7.72-7.72 1.47 1.35L5.41 20z\"/>\n",
              "  </svg>\n",
              "      </button>\n",
              "      \n",
              "  <style>\n",
              "    .colab-df-container {\n",
              "      display:flex;\n",
              "      flex-wrap:wrap;\n",
              "      gap: 12px;\n",
              "    }\n",
              "\n",
              "    .colab-df-convert {\n",
              "      background-color: #E8F0FE;\n",
              "      border: none;\n",
              "      border-radius: 50%;\n",
              "      cursor: pointer;\n",
              "      display: none;\n",
              "      fill: #1967D2;\n",
              "      height: 32px;\n",
              "      padding: 0 0 0 0;\n",
              "      width: 32px;\n",
              "    }\n",
              "\n",
              "    .colab-df-convert:hover {\n",
              "      background-color: #E2EBFA;\n",
              "      box-shadow: 0px 1px 2px rgba(60, 64, 67, 0.3), 0px 1px 3px 1px rgba(60, 64, 67, 0.15);\n",
              "      fill: #174EA6;\n",
              "    }\n",
              "\n",
              "    [theme=dark] .colab-df-convert {\n",
              "      background-color: #3B4455;\n",
              "      fill: #D2E3FC;\n",
              "    }\n",
              "\n",
              "    [theme=dark] .colab-df-convert:hover {\n",
              "      background-color: #434B5C;\n",
              "      box-shadow: 0px 1px 3px 1px rgba(0, 0, 0, 0.15);\n",
              "      filter: drop-shadow(0px 1px 2px rgba(0, 0, 0, 0.3));\n",
              "      fill: #FFFFFF;\n",
              "    }\n",
              "  </style>\n",
              "\n",
              "      <script>\n",
              "        const buttonEl =\n",
              "          document.querySelector('#df-b26d987b-caa2-4264-9185-999b0def59e4 button.colab-df-convert');\n",
              "        buttonEl.style.display =\n",
              "          google.colab.kernel.accessAllowed ? 'block' : 'none';\n",
              "\n",
              "        async function convertToInteractive(key) {\n",
              "          const element = document.querySelector('#df-b26d987b-caa2-4264-9185-999b0def59e4');\n",
              "          const dataTable =\n",
              "            await google.colab.kernel.invokeFunction('convertToInteractive',\n",
              "                                                     [key], {});\n",
              "          if (!dataTable) return;\n",
              "\n",
              "          const docLinkHtml = 'Like what you see? Visit the ' +\n",
              "            '<a target=\"_blank\" href=https://colab.research.google.com/notebooks/data_table.ipynb>data table notebook</a>'\n",
              "            + ' to learn more about interactive tables.';\n",
              "          element.innerHTML = '';\n",
              "          dataTable['output_type'] = 'display_data';\n",
              "          await google.colab.output.renderOutput(dataTable, element);\n",
              "          const docLink = document.createElement('div');\n",
              "          docLink.innerHTML = docLinkHtml;\n",
              "          element.appendChild(docLink);\n",
              "        }\n",
              "      </script>\n",
              "    </div>\n",
              "  </div>\n",
              "  "
            ]
          },
          "metadata": {},
          "execution_count": 5
        }
      ]
    },
    {
      "cell_type": "code",
      "source": [
        "df.info()"
      ],
      "metadata": {
        "colab": {
          "base_uri": "https://localhost:8080/"
        },
        "id": "Wyh8jWsP17N_",
        "outputId": "f1ba665f-148f-402a-be0a-e6194d3d20f6"
      },
      "execution_count": 6,
      "outputs": [
        {
          "output_type": "stream",
          "name": "stdout",
          "text": [
            "<class 'pandas.core.frame.DataFrame'>\n",
            "RangeIndex: 20000 entries, 0 to 19999\n",
            "Columns: 292 entries, id to price\n",
            "dtypes: datetime64[ns](1), float64(119), int64(157), object(15)\n",
            "memory usage: 44.6+ MB\n"
          ]
        }
      ]
    },
    {
      "cell_type": "markdown",
      "metadata": {
        "id": "znjwH9_mx3fZ"
      },
      "source": [
        "Разделите имеющиеся у вас данные на обучающую и тестовую выборки. В качестве обучающей выборки возьмите первые 80% данных, последние 20% - тестовая выборка."
      ]
    },
    {
      "cell_type": "code",
      "source": [
        "df.isna().sum()"
      ],
      "metadata": {
        "colab": {
          "base_uri": "https://localhost:8080/"
        },
        "id": "kmMCjN7m1-UX",
        "outputId": "150184e0-10cc-43af-d648-3082f80ad068"
      },
      "execution_count": 7,
      "outputs": [
        {
          "output_type": "execute_result",
          "data": {
            "text/plain": [
              "id                       0\n",
              "timestamp                0\n",
              "full_sq                  0\n",
              "life_sq               4103\n",
              "floor                  113\n",
              "                      ... \n",
              "mosque_count_5000        0\n",
              "leisure_count_5000       0\n",
              "sport_count_5000         0\n",
              "market_count_5000        0\n",
              "price                    0\n",
              "Length: 292, dtype: int64"
            ]
          },
          "metadata": {},
          "execution_count": 7
        }
      ]
    },
    {
      "cell_type": "code",
      "source": [
        "df.mean()"
      ],
      "metadata": {
        "colab": {
          "base_uri": "https://localhost:8080/"
        },
        "id": "uIjHA14G2Kah",
        "outputId": "2f4def6e-eb1c-4ab4-a2af-533350678a09"
      },
      "execution_count": 8,
      "outputs": [
        {
          "output_type": "stream",
          "name": "stderr",
          "text": [
            "/usr/local/lib/python3.7/dist-packages/ipykernel_launcher.py:1: FutureWarning: DataFrame.mean and DataFrame.median with numeric_only=None will include datetime64 and datetime64tz columns in a future version.\n",
            "  \"\"\"Entry point for launching an IPython kernel.\n",
            "/usr/local/lib/python3.7/dist-packages/ipykernel_launcher.py:1: FutureWarning: Dropping of nuisance columns in DataFrame reductions (with 'numeric_only=None') is deprecated; in a future version this will raise TypeError.  Select only valid columns before calling the reduction.\n",
            "  \"\"\"Entry point for launching an IPython kernel.\n"
          ]
        },
        {
          "output_type": "execute_result",
          "data": {
            "text/plain": [
              "id                    9.999500e+03\n",
              "full_sq               5.425995e+01\n",
              "life_sq               3.403233e+01\n",
              "floor                 7.644441e+00\n",
              "max_floor             1.260393e+01\n",
              "                          ...     \n",
              "mosque_count_5000     4.431000e-01\n",
              "leisure_count_5000    8.626950e+00\n",
              "sport_count_5000      5.305495e+01\n",
              "market_count_5000     6.005700e+00\n",
              "price                 7.118799e+06\n",
              "Length: 276, dtype: float64"
            ]
          },
          "metadata": {},
          "execution_count": 8
        }
      ]
    },
    {
      "cell_type": "code",
      "source": [
        "len(df.columns)"
      ],
      "metadata": {
        "colab": {
          "base_uri": "https://localhost:8080/"
        },
        "id": "rT08qYQY9-KM",
        "outputId": "2b79ce96-8f72-406b-9087-10e6b0e81b5f"
      },
      "execution_count": 9,
      "outputs": [
        {
          "output_type": "execute_result",
          "data": {
            "text/plain": [
              "292"
            ]
          },
          "metadata": {},
          "execution_count": 9
        }
      ]
    },
    {
      "cell_type": "markdown",
      "source": [
        "Удалим строки, где более 30% значений в колонках NaN, потому что они могут быть недостаточно информативными.\n",
        "P.S. видимо, таких вообще не оказалось)"
      ],
      "metadata": {
        "id": "hYWXNLAf-UNx"
      }
    },
    {
      "cell_type": "code",
      "source": [
        "df.dropna(thresh=len(df.columns)*0.7)"
      ],
      "metadata": {
        "colab": {
          "base_uri": "https://localhost:8080/",
          "height": 488
        },
        "id": "Df3WR3mC8WV7",
        "outputId": "4d29ddce-9bdd-4932-d373-cb59989f7100"
      },
      "execution_count": 10,
      "outputs": [
        {
          "output_type": "execute_result",
          "data": {
            "text/plain": [
              "          id  timestamp  full_sq  life_sq  floor  max_floor  material  \\\n",
              "0          0 2014-12-26        1      1.0    1.0        1.0       1.0   \n",
              "1          1 2012-10-04       64     64.0   16.0        NaN       NaN   \n",
              "2          2 2014-02-05       83     44.0    9.0       17.0       1.0   \n",
              "3          3 2012-07-26       71     49.0    2.0        NaN       NaN   \n",
              "4          4 2014-10-29       60     42.0    9.0        9.0       1.0   \n",
              "...      ...        ...      ...      ...    ...        ...       ...   \n",
              "19995  19995 2014-09-22       45     27.0    2.0        9.0       1.0   \n",
              "19996  19996 2013-12-06       38      NaN    4.0       17.0       1.0   \n",
              "19997  19997 2014-06-26       35     14.0    9.0       22.0       1.0   \n",
              "19998  19998 2014-01-21       51     30.0    8.0       17.0       1.0   \n",
              "19999  19999 2012-04-09       54     32.0    9.0        NaN       NaN   \n",
              "\n",
              "       build_year  num_room  kitch_sq  ...  cafe_count_5000_price_2500  \\\n",
              "0             1.0       1.0       1.0  ...                          36   \n",
              "1             NaN       NaN       NaN  ...                           2   \n",
              "2          1985.0       3.0      10.0  ...                          13   \n",
              "3             NaN       NaN       NaN  ...                           0   \n",
              "4          1970.0       3.0       6.0  ...                           3   \n",
              "...           ...       ...       ...  ...                         ...   \n",
              "19995      1978.0       2.0       5.0  ...                           9   \n",
              "19996         NaN       2.0       1.0  ...                           2   \n",
              "19997      2001.0       1.0      10.0  ...                          13   \n",
              "19998      2011.0       2.0       9.0  ...                           1   \n",
              "19999         NaN       NaN       NaN  ...                          23   \n",
              "\n",
              "      cafe_count_5000_price_4000 cafe_count_5000_price_high  \\\n",
              "0                              7                          2   \n",
              "1                              2                          0   \n",
              "2                              6                          1   \n",
              "3                              0                          0   \n",
              "4                              1                          0   \n",
              "...                          ...                        ...   \n",
              "19995                          0                          0   \n",
              "19996                          2                          0   \n",
              "19997                          3                          0   \n",
              "19998                          0                          0   \n",
              "19999                          1                          1   \n",
              "\n",
              "       big_church_count_5000  church_count_5000  mosque_count_5000  \\\n",
              "0                         15                 33                  1   \n",
              "1                          0                 13                  1   \n",
              "2                          8                 18                  0   \n",
              "3                          1                  3                  0   \n",
              "4                          5                  8                  0   \n",
              "...                      ...                ...                ...   \n",
              "19995                      6                 29                  0   \n",
              "19996                      1                 12                  1   \n",
              "19997                      6                 27                  1   \n",
              "19998                      0                  7                  0   \n",
              "19999                      5                 30                  1   \n",
              "\n",
              "       leisure_count_5000  sport_count_5000  market_count_5000     price  \n",
              "0                      12                75                 10  15318960  \n",
              "1                       0                 6                  1   6080000  \n",
              "2                       1                52                  0  17000000  \n",
              "3                       2                 8                  2    990000  \n",
              "4                       1                34                  5   7900000  \n",
              "...                   ...               ...                ...       ...  \n",
              "19995                   1                46                 10   7200000  \n",
              "19996                   0                 8                  0   3971520  \n",
              "19997                  10                57                 13   7200000  \n",
              "19998                   0                 3                  0   3300000  \n",
              "19999                   4                62                  7   8700000  \n",
              "\n",
              "[20000 rows x 292 columns]"
            ],
            "text/html": [
              "\n",
              "  <div id=\"df-ef167a91-cf78-4a6c-9a51-6df6aaf349e8\">\n",
              "    <div class=\"colab-df-container\">\n",
              "      <div>\n",
              "<style scoped>\n",
              "    .dataframe tbody tr th:only-of-type {\n",
              "        vertical-align: middle;\n",
              "    }\n",
              "\n",
              "    .dataframe tbody tr th {\n",
              "        vertical-align: top;\n",
              "    }\n",
              "\n",
              "    .dataframe thead th {\n",
              "        text-align: right;\n",
              "    }\n",
              "</style>\n",
              "<table border=\"1\" class=\"dataframe\">\n",
              "  <thead>\n",
              "    <tr style=\"text-align: right;\">\n",
              "      <th></th>\n",
              "      <th>id</th>\n",
              "      <th>timestamp</th>\n",
              "      <th>full_sq</th>\n",
              "      <th>life_sq</th>\n",
              "      <th>floor</th>\n",
              "      <th>max_floor</th>\n",
              "      <th>material</th>\n",
              "      <th>build_year</th>\n",
              "      <th>num_room</th>\n",
              "      <th>kitch_sq</th>\n",
              "      <th>...</th>\n",
              "      <th>cafe_count_5000_price_2500</th>\n",
              "      <th>cafe_count_5000_price_4000</th>\n",
              "      <th>cafe_count_5000_price_high</th>\n",
              "      <th>big_church_count_5000</th>\n",
              "      <th>church_count_5000</th>\n",
              "      <th>mosque_count_5000</th>\n",
              "      <th>leisure_count_5000</th>\n",
              "      <th>sport_count_5000</th>\n",
              "      <th>market_count_5000</th>\n",
              "      <th>price</th>\n",
              "    </tr>\n",
              "  </thead>\n",
              "  <tbody>\n",
              "    <tr>\n",
              "      <th>0</th>\n",
              "      <td>0</td>\n",
              "      <td>2014-12-26</td>\n",
              "      <td>1</td>\n",
              "      <td>1.0</td>\n",
              "      <td>1.0</td>\n",
              "      <td>1.0</td>\n",
              "      <td>1.0</td>\n",
              "      <td>1.0</td>\n",
              "      <td>1.0</td>\n",
              "      <td>1.0</td>\n",
              "      <td>...</td>\n",
              "      <td>36</td>\n",
              "      <td>7</td>\n",
              "      <td>2</td>\n",
              "      <td>15</td>\n",
              "      <td>33</td>\n",
              "      <td>1</td>\n",
              "      <td>12</td>\n",
              "      <td>75</td>\n",
              "      <td>10</td>\n",
              "      <td>15318960</td>\n",
              "    </tr>\n",
              "    <tr>\n",
              "      <th>1</th>\n",
              "      <td>1</td>\n",
              "      <td>2012-10-04</td>\n",
              "      <td>64</td>\n",
              "      <td>64.0</td>\n",
              "      <td>16.0</td>\n",
              "      <td>NaN</td>\n",
              "      <td>NaN</td>\n",
              "      <td>NaN</td>\n",
              "      <td>NaN</td>\n",
              "      <td>NaN</td>\n",
              "      <td>...</td>\n",
              "      <td>2</td>\n",
              "      <td>2</td>\n",
              "      <td>0</td>\n",
              "      <td>0</td>\n",
              "      <td>13</td>\n",
              "      <td>1</td>\n",
              "      <td>0</td>\n",
              "      <td>6</td>\n",
              "      <td>1</td>\n",
              "      <td>6080000</td>\n",
              "    </tr>\n",
              "    <tr>\n",
              "      <th>2</th>\n",
              "      <td>2</td>\n",
              "      <td>2014-02-05</td>\n",
              "      <td>83</td>\n",
              "      <td>44.0</td>\n",
              "      <td>9.0</td>\n",
              "      <td>17.0</td>\n",
              "      <td>1.0</td>\n",
              "      <td>1985.0</td>\n",
              "      <td>3.0</td>\n",
              "      <td>10.0</td>\n",
              "      <td>...</td>\n",
              "      <td>13</td>\n",
              "      <td>6</td>\n",
              "      <td>1</td>\n",
              "      <td>8</td>\n",
              "      <td>18</td>\n",
              "      <td>0</td>\n",
              "      <td>1</td>\n",
              "      <td>52</td>\n",
              "      <td>0</td>\n",
              "      <td>17000000</td>\n",
              "    </tr>\n",
              "    <tr>\n",
              "      <th>3</th>\n",
              "      <td>3</td>\n",
              "      <td>2012-07-26</td>\n",
              "      <td>71</td>\n",
              "      <td>49.0</td>\n",
              "      <td>2.0</td>\n",
              "      <td>NaN</td>\n",
              "      <td>NaN</td>\n",
              "      <td>NaN</td>\n",
              "      <td>NaN</td>\n",
              "      <td>NaN</td>\n",
              "      <td>...</td>\n",
              "      <td>0</td>\n",
              "      <td>0</td>\n",
              "      <td>0</td>\n",
              "      <td>1</td>\n",
              "      <td>3</td>\n",
              "      <td>0</td>\n",
              "      <td>2</td>\n",
              "      <td>8</td>\n",
              "      <td>2</td>\n",
              "      <td>990000</td>\n",
              "    </tr>\n",
              "    <tr>\n",
              "      <th>4</th>\n",
              "      <td>4</td>\n",
              "      <td>2014-10-29</td>\n",
              "      <td>60</td>\n",
              "      <td>42.0</td>\n",
              "      <td>9.0</td>\n",
              "      <td>9.0</td>\n",
              "      <td>1.0</td>\n",
              "      <td>1970.0</td>\n",
              "      <td>3.0</td>\n",
              "      <td>6.0</td>\n",
              "      <td>...</td>\n",
              "      <td>3</td>\n",
              "      <td>1</td>\n",
              "      <td>0</td>\n",
              "      <td>5</td>\n",
              "      <td>8</td>\n",
              "      <td>0</td>\n",
              "      <td>1</td>\n",
              "      <td>34</td>\n",
              "      <td>5</td>\n",
              "      <td>7900000</td>\n",
              "    </tr>\n",
              "    <tr>\n",
              "      <th>...</th>\n",
              "      <td>...</td>\n",
              "      <td>...</td>\n",
              "      <td>...</td>\n",
              "      <td>...</td>\n",
              "      <td>...</td>\n",
              "      <td>...</td>\n",
              "      <td>...</td>\n",
              "      <td>...</td>\n",
              "      <td>...</td>\n",
              "      <td>...</td>\n",
              "      <td>...</td>\n",
              "      <td>...</td>\n",
              "      <td>...</td>\n",
              "      <td>...</td>\n",
              "      <td>...</td>\n",
              "      <td>...</td>\n",
              "      <td>...</td>\n",
              "      <td>...</td>\n",
              "      <td>...</td>\n",
              "      <td>...</td>\n",
              "      <td>...</td>\n",
              "    </tr>\n",
              "    <tr>\n",
              "      <th>19995</th>\n",
              "      <td>19995</td>\n",
              "      <td>2014-09-22</td>\n",
              "      <td>45</td>\n",
              "      <td>27.0</td>\n",
              "      <td>2.0</td>\n",
              "      <td>9.0</td>\n",
              "      <td>1.0</td>\n",
              "      <td>1978.0</td>\n",
              "      <td>2.0</td>\n",
              "      <td>5.0</td>\n",
              "      <td>...</td>\n",
              "      <td>9</td>\n",
              "      <td>0</td>\n",
              "      <td>0</td>\n",
              "      <td>6</td>\n",
              "      <td>29</td>\n",
              "      <td>0</td>\n",
              "      <td>1</td>\n",
              "      <td>46</td>\n",
              "      <td>10</td>\n",
              "      <td>7200000</td>\n",
              "    </tr>\n",
              "    <tr>\n",
              "      <th>19996</th>\n",
              "      <td>19996</td>\n",
              "      <td>2013-12-06</td>\n",
              "      <td>38</td>\n",
              "      <td>NaN</td>\n",
              "      <td>4.0</td>\n",
              "      <td>17.0</td>\n",
              "      <td>1.0</td>\n",
              "      <td>NaN</td>\n",
              "      <td>2.0</td>\n",
              "      <td>1.0</td>\n",
              "      <td>...</td>\n",
              "      <td>2</td>\n",
              "      <td>2</td>\n",
              "      <td>0</td>\n",
              "      <td>1</td>\n",
              "      <td>12</td>\n",
              "      <td>1</td>\n",
              "      <td>0</td>\n",
              "      <td>8</td>\n",
              "      <td>0</td>\n",
              "      <td>3971520</td>\n",
              "    </tr>\n",
              "    <tr>\n",
              "      <th>19997</th>\n",
              "      <td>19997</td>\n",
              "      <td>2014-06-26</td>\n",
              "      <td>35</td>\n",
              "      <td>14.0</td>\n",
              "      <td>9.0</td>\n",
              "      <td>22.0</td>\n",
              "      <td>1.0</td>\n",
              "      <td>2001.0</td>\n",
              "      <td>1.0</td>\n",
              "      <td>10.0</td>\n",
              "      <td>...</td>\n",
              "      <td>13</td>\n",
              "      <td>3</td>\n",
              "      <td>0</td>\n",
              "      <td>6</td>\n",
              "      <td>27</td>\n",
              "      <td>1</td>\n",
              "      <td>10</td>\n",
              "      <td>57</td>\n",
              "      <td>13</td>\n",
              "      <td>7200000</td>\n",
              "    </tr>\n",
              "    <tr>\n",
              "      <th>19998</th>\n",
              "      <td>19998</td>\n",
              "      <td>2014-01-21</td>\n",
              "      <td>51</td>\n",
              "      <td>30.0</td>\n",
              "      <td>8.0</td>\n",
              "      <td>17.0</td>\n",
              "      <td>1.0</td>\n",
              "      <td>2011.0</td>\n",
              "      <td>2.0</td>\n",
              "      <td>9.0</td>\n",
              "      <td>...</td>\n",
              "      <td>1</td>\n",
              "      <td>0</td>\n",
              "      <td>0</td>\n",
              "      <td>0</td>\n",
              "      <td>7</td>\n",
              "      <td>0</td>\n",
              "      <td>0</td>\n",
              "      <td>3</td>\n",
              "      <td>0</td>\n",
              "      <td>3300000</td>\n",
              "    </tr>\n",
              "    <tr>\n",
              "      <th>19999</th>\n",
              "      <td>19999</td>\n",
              "      <td>2012-04-09</td>\n",
              "      <td>54</td>\n",
              "      <td>32.0</td>\n",
              "      <td>9.0</td>\n",
              "      <td>NaN</td>\n",
              "      <td>NaN</td>\n",
              "      <td>NaN</td>\n",
              "      <td>NaN</td>\n",
              "      <td>NaN</td>\n",
              "      <td>...</td>\n",
              "      <td>23</td>\n",
              "      <td>1</td>\n",
              "      <td>1</td>\n",
              "      <td>5</td>\n",
              "      <td>30</td>\n",
              "      <td>1</td>\n",
              "      <td>4</td>\n",
              "      <td>62</td>\n",
              "      <td>7</td>\n",
              "      <td>8700000</td>\n",
              "    </tr>\n",
              "  </tbody>\n",
              "</table>\n",
              "<p>20000 rows × 292 columns</p>\n",
              "</div>\n",
              "      <button class=\"colab-df-convert\" onclick=\"convertToInteractive('df-ef167a91-cf78-4a6c-9a51-6df6aaf349e8')\"\n",
              "              title=\"Convert this dataframe to an interactive table.\"\n",
              "              style=\"display:none;\">\n",
              "        \n",
              "  <svg xmlns=\"http://www.w3.org/2000/svg\" height=\"24px\"viewBox=\"0 0 24 24\"\n",
              "       width=\"24px\">\n",
              "    <path d=\"M0 0h24v24H0V0z\" fill=\"none\"/>\n",
              "    <path d=\"M18.56 5.44l.94 2.06.94-2.06 2.06-.94-2.06-.94-.94-2.06-.94 2.06-2.06.94zm-11 1L8.5 8.5l.94-2.06 2.06-.94-2.06-.94L8.5 2.5l-.94 2.06-2.06.94zm10 10l.94 2.06.94-2.06 2.06-.94-2.06-.94-.94-2.06-.94 2.06-2.06.94z\"/><path d=\"M17.41 7.96l-1.37-1.37c-.4-.4-.92-.59-1.43-.59-.52 0-1.04.2-1.43.59L10.3 9.45l-7.72 7.72c-.78.78-.78 2.05 0 2.83L4 21.41c.39.39.9.59 1.41.59.51 0 1.02-.2 1.41-.59l7.78-7.78 2.81-2.81c.8-.78.8-2.07 0-2.86zM5.41 20L4 18.59l7.72-7.72 1.47 1.35L5.41 20z\"/>\n",
              "  </svg>\n",
              "      </button>\n",
              "      \n",
              "  <style>\n",
              "    .colab-df-container {\n",
              "      display:flex;\n",
              "      flex-wrap:wrap;\n",
              "      gap: 12px;\n",
              "    }\n",
              "\n",
              "    .colab-df-convert {\n",
              "      background-color: #E8F0FE;\n",
              "      border: none;\n",
              "      border-radius: 50%;\n",
              "      cursor: pointer;\n",
              "      display: none;\n",
              "      fill: #1967D2;\n",
              "      height: 32px;\n",
              "      padding: 0 0 0 0;\n",
              "      width: 32px;\n",
              "    }\n",
              "\n",
              "    .colab-df-convert:hover {\n",
              "      background-color: #E2EBFA;\n",
              "      box-shadow: 0px 1px 2px rgba(60, 64, 67, 0.3), 0px 1px 3px 1px rgba(60, 64, 67, 0.15);\n",
              "      fill: #174EA6;\n",
              "    }\n",
              "\n",
              "    [theme=dark] .colab-df-convert {\n",
              "      background-color: #3B4455;\n",
              "      fill: #D2E3FC;\n",
              "    }\n",
              "\n",
              "    [theme=dark] .colab-df-convert:hover {\n",
              "      background-color: #434B5C;\n",
              "      box-shadow: 0px 1px 3px 1px rgba(0, 0, 0, 0.15);\n",
              "      filter: drop-shadow(0px 1px 2px rgba(0, 0, 0, 0.3));\n",
              "      fill: #FFFFFF;\n",
              "    }\n",
              "  </style>\n",
              "\n",
              "      <script>\n",
              "        const buttonEl =\n",
              "          document.querySelector('#df-ef167a91-cf78-4a6c-9a51-6df6aaf349e8 button.colab-df-convert');\n",
              "        buttonEl.style.display =\n",
              "          google.colab.kernel.accessAllowed ? 'block' : 'none';\n",
              "\n",
              "        async function convertToInteractive(key) {\n",
              "          const element = document.querySelector('#df-ef167a91-cf78-4a6c-9a51-6df6aaf349e8');\n",
              "          const dataTable =\n",
              "            await google.colab.kernel.invokeFunction('convertToInteractive',\n",
              "                                                     [key], {});\n",
              "          if (!dataTable) return;\n",
              "\n",
              "          const docLinkHtml = 'Like what you see? Visit the ' +\n",
              "            '<a target=\"_blank\" href=https://colab.research.google.com/notebooks/data_table.ipynb>data table notebook</a>'\n",
              "            + ' to learn more about interactive tables.';\n",
              "          element.innerHTML = '';\n",
              "          dataTable['output_type'] = 'display_data';\n",
              "          await google.colab.output.renderOutput(dataTable, element);\n",
              "          const docLink = document.createElement('div');\n",
              "          docLink.innerHTML = docLinkHtml;\n",
              "          element.appendChild(docLink);\n",
              "        }\n",
              "      </script>\n",
              "    </div>\n",
              "  </div>\n",
              "  "
            ]
          },
          "metadata": {},
          "execution_count": 10
        }
      ]
    },
    {
      "cell_type": "code",
      "source": [
        "df.fillna(df.mean(), inplace=True)"
      ],
      "metadata": {
        "colab": {
          "base_uri": "https://localhost:8080/"
        },
        "id": "CPXhMNEh9gOR",
        "outputId": "9c63eb3a-e6de-4dae-f279-c55462d76d6a"
      },
      "execution_count": 11,
      "outputs": [
        {
          "output_type": "stream",
          "name": "stderr",
          "text": [
            "/usr/local/lib/python3.7/dist-packages/ipykernel_launcher.py:1: FutureWarning: DataFrame.mean and DataFrame.median with numeric_only=None will include datetime64 and datetime64tz columns in a future version.\n",
            "  \"\"\"Entry point for launching an IPython kernel.\n",
            "/usr/local/lib/python3.7/dist-packages/ipykernel_launcher.py:1: FutureWarning: Dropping of nuisance columns in DataFrame reductions (with 'numeric_only=None') is deprecated; in a future version this will raise TypeError.  Select only valid columns before calling the reduction.\n",
            "  \"\"\"Entry point for launching an IPython kernel.\n"
          ]
        }
      ]
    },
    {
      "cell_type": "code",
      "source": [
        "df.isna().sum().sum()"
      ],
      "metadata": {
        "colab": {
          "base_uri": "https://localhost:8080/"
        },
        "id": "XQ5V12iw-3SC",
        "outputId": "47c9331f-b90d-4dc7-a0ee-67a7543f105c"
      },
      "execution_count": 12,
      "outputs": [
        {
          "output_type": "execute_result",
          "data": {
            "text/plain": [
              "0"
            ]
          },
          "metadata": {},
          "execution_count": 12
        }
      ]
    },
    {
      "cell_type": "code",
      "source": [
        "drop_columns = [\n",
        "    'id',           # May leak information\n",
        "    'timestamp',    # May leak information\n",
        "]\n",
        "cat_columns = [c for c in df.columns if df[c].dtype.name=='object']\n",
        "num_columns = list(set(df.columns).difference(set(cat_columns + drop_columns)))"
      ],
      "metadata": {
        "id": "g5AxR69JAlbU"
      },
      "execution_count": 13,
      "outputs": []
    },
    {
      "cell_type": "code",
      "source": [
        "t = 0\n",
        "for column in cat_columns:\n",
        "  # df[column].value_counts().plot(kind='bar')\n",
        "  print(f'{t}) ', column, '\\n', df[column].value_counts())\n",
        "  t+=1"
      ],
      "metadata": {
        "colab": {
          "base_uri": "https://localhost:8080/"
        },
        "id": "T4HA13a3_ABa",
        "outputId": "da2b9dbb-eb32-437e-9994-7111c34c265b"
      },
      "execution_count": 14,
      "outputs": [
        {
          "output_type": "stream",
          "name": "stdout",
          "text": [
            "0)  product_type \n",
            " Investment       12840\n",
            "OwnerOccupier     7160\n",
            "Name: product_type, dtype: int64\n",
            "1)  sub_area \n",
            " Poselenie Sosenskoe               1126\n",
            "Nekrasovka                        1074\n",
            "Poselenie Vnukovskoe               859\n",
            "Poselenie Moskovskij               603\n",
            "Poselenie Voskresenskoe            464\n",
            "                                  ... \n",
            "Molzhaninovskoe                      2\n",
            "Poselenie Shhapovskoe                2\n",
            "Poselenie Kievskij                   2\n",
            "Poselenie Mihajlovo-Jarcevskoe       1\n",
            "Poselenie Klenovskoe                 1\n",
            "Name: sub_area, Length: 146, dtype: int64\n",
            "2)  culture_objects_top_25 \n",
            " no     18748\n",
            "yes     1252\n",
            "Name: culture_objects_top_25, dtype: int64\n",
            "3)  thermal_power_plant_raion \n",
            " no     18912\n",
            "yes     1088\n",
            "Name: thermal_power_plant_raion, dtype: int64\n",
            "4)  incineration_raion \n",
            " no     18452\n",
            "yes     1548\n",
            "Name: incineration_raion, dtype: int64\n",
            "5)  oil_chemistry_raion \n",
            " no     19809\n",
            "yes      191\n",
            "Name: oil_chemistry_raion, dtype: int64\n",
            "6)  radiation_raion \n",
            " no     12767\n",
            "yes     7233\n",
            "Name: radiation_raion, dtype: int64\n",
            "7)  railroad_terminal_raion \n",
            " no     19242\n",
            "yes      758\n",
            "Name: railroad_terminal_raion, dtype: int64\n",
            "8)  big_market_raion \n",
            " no     18182\n",
            "yes     1818\n",
            "Name: big_market_raion, dtype: int64\n",
            "9)  nuclear_reactor_raion \n",
            " no     19426\n",
            "yes      574\n",
            "Name: nuclear_reactor_raion, dtype: int64\n",
            "10)  detention_facility_raion \n",
            " no     18008\n",
            "yes     1992\n",
            "Name: detention_facility_raion, dtype: int64\n",
            "11)  water_1line \n",
            " no     18457\n",
            "yes     1543\n",
            "Name: water_1line, dtype: int64\n",
            "12)  big_road1_1line \n",
            " no     19495\n",
            "yes      505\n",
            "Name: big_road1_1line, dtype: int64\n",
            "13)  railroad_1line \n",
            " no     19401\n",
            "yes      599\n",
            "Name: railroad_1line, dtype: int64\n",
            "14)  ecology \n",
            " poor            5299\n",
            "no data         4927\n",
            "good            4695\n",
            "excellent       2590\n",
            "satisfactory    2489\n",
            "Name: ecology, dtype: int64\n"
          ]
        }
      ]
    },
    {
      "cell_type": "code",
      "source": [
        "from sklearn.preprocessing import LabelEncoder\n",
        "yes_no_encoder = None\n",
        "for column in cat_columns:\n",
        "  counted = df[column].unique()\n",
        "\n",
        "  if 'yes' in counted or 'no' in counted:\n",
        "    if yes_no_encoder == None:\n",
        "      yes_no_encoder = LabelEncoder()\n",
        "      yes_no_encoder.fit(df[column])\n",
        "    df[column] = yes_no_encoder.transform(df[column])\n",
        "  elif column == 'ecology':\n",
        "    def convert(x):\n",
        "      if x == 'no data':\n",
        "        return 0\n",
        "      elif x == 'poor':\n",
        "        return 1\n",
        "      elif x == 'satisfactory':\n",
        "        return 2\n",
        "      elif x == 'good':\n",
        "        return 3\n",
        "      elif x == 'excellent':\n",
        "        return 4\n",
        "    df[column] = df[column].apply(convert)\n",
        "  else:\n",
        "    temp_encoder = LabelEncoder()\n",
        "    temp_encoder.fit(df[column])\n",
        "    df[column] = temp_encoder.transform(df[column])    "
      ],
      "metadata": {
        "id": "lHoLhNcxAVjj"
      },
      "execution_count": 15,
      "outputs": []
    },
    {
      "cell_type": "code",
      "source": [
        "t = 0\n",
        "for column in cat_columns:\n",
        "  # df[column].value_counts().plot(kind='bar')\n",
        "  print(f'{t}) ', column, '\\n', df[column].value_counts())\n",
        "  t+=1"
      ],
      "metadata": {
        "colab": {
          "base_uri": "https://localhost:8080/"
        },
        "id": "UO2CwYq8PsIb",
        "outputId": "eb9ff57c-d50b-49c3-dffa-71b90124ad0a"
      },
      "execution_count": 16,
      "outputs": [
        {
          "output_type": "stream",
          "name": "stdout",
          "text": [
            "0)  product_type \n",
            " 0    12840\n",
            "1     7160\n",
            "Name: product_type, dtype: int64\n",
            "1)  sub_area \n",
            " 102    1126\n",
            "72     1074\n",
            "103     859\n",
            "94      603\n",
            "105     464\n",
            "       ... \n",
            "66        2\n",
            "100       2\n",
            "88        2\n",
            "93        1\n",
            "89        1\n",
            "Name: sub_area, Length: 146, dtype: int64\n",
            "2)  culture_objects_top_25 \n",
            " 0    18748\n",
            "1     1252\n",
            "Name: culture_objects_top_25, dtype: int64\n",
            "3)  thermal_power_plant_raion \n",
            " 0    18912\n",
            "1     1088\n",
            "Name: thermal_power_plant_raion, dtype: int64\n",
            "4)  incineration_raion \n",
            " 0    18452\n",
            "1     1548\n",
            "Name: incineration_raion, dtype: int64\n",
            "5)  oil_chemistry_raion \n",
            " 0    19809\n",
            "1      191\n",
            "Name: oil_chemistry_raion, dtype: int64\n",
            "6)  radiation_raion \n",
            " 0    12767\n",
            "1     7233\n",
            "Name: radiation_raion, dtype: int64\n",
            "7)  railroad_terminal_raion \n",
            " 0    19242\n",
            "1      758\n",
            "Name: railroad_terminal_raion, dtype: int64\n",
            "8)  big_market_raion \n",
            " 0    18182\n",
            "1     1818\n",
            "Name: big_market_raion, dtype: int64\n",
            "9)  nuclear_reactor_raion \n",
            " 0    19426\n",
            "1      574\n",
            "Name: nuclear_reactor_raion, dtype: int64\n",
            "10)  detention_facility_raion \n",
            " 0    18008\n",
            "1     1992\n",
            "Name: detention_facility_raion, dtype: int64\n",
            "11)  water_1line \n",
            " 0    18457\n",
            "1     1543\n",
            "Name: water_1line, dtype: int64\n",
            "12)  big_road1_1line \n",
            " 0    19495\n",
            "1      505\n",
            "Name: big_road1_1line, dtype: int64\n",
            "13)  railroad_1line \n",
            " 0    19401\n",
            "1      599\n",
            "Name: railroad_1line, dtype: int64\n",
            "14)  ecology \n",
            " 1    5299\n",
            "0    4927\n",
            "3    4695\n",
            "4    2590\n",
            "2    2489\n",
            "Name: ecology, dtype: int64\n"
          ]
        }
      ]
    },
    {
      "cell_type": "code",
      "metadata": {
        "id": "hwfNR565wMKN"
      },
      "source": [
        "df = df.drop(columns=['id','timestamp'])"
      ],
      "execution_count": 17,
      "outputs": []
    },
    {
      "cell_type": "markdown",
      "metadata": {
        "id": "pL4dJJwZP86w"
      },
      "source": [
        "Возможно в ваших моделях вам придется указывать, какие колонки являются категориальными (например, в бустингах). Для упрощения предлагается разделить колонки по следующему принципу:\n",
        "```\n",
        "drop_columns = [\n",
        "    'id',           # May leak information\n",
        "    'timestamp',    # May leak information\n",
        "]\n",
        "cat_columns = [\n",
        "    'product_type',              #\n",
        "    'material',                  # Material of the wall\n",
        "    'state',                     # Satisfaction level\n",
        "    'sub_area',                  # District name\n",
        "    'culture_objects_top_25',    #\n",
        "    'thermal_power_plant_raion', #\n",
        "    'incineration_raion',        #\n",
        "    'oil_chemistry_raion',       #\n",
        "    'radiation_raion',           #\n",
        "    'railroad_terminal_raion',   #\n",
        "    'big_market_raion',          #\n",
        "    'nuclear_reactor_raion',     #\n",
        "    'detention_facility_raion',  #\n",
        "    'ID_metro',                  #\n",
        "    'ID_railroad_station_walk',  #\n",
        "    'ID_railroad_station_avto',  #\n",
        "    'water_1line',               #\n",
        "    'ID_big_road1',              #\n",
        "    'big_road1_1line',           #\n",
        "    'ID_big_road2',              #\n",
        "    'railroad_1line',            #\n",
        "    'ID_railroad_terminal',      #\n",
        "    'ID_bus_terminal',           #\n",
        "    'ecology',                   #\n",
        "]\n",
        "num_columns = list(set(df.columns).difference(set(cat_columns + drop_columns)))\n",
        "```"
      ]
    },
    {
      "cell_type": "code",
      "source": [
        "from sklearn.model_selection import train_test_split\n",
        "y = df['price']\n",
        "X = df.drop(columns=['price'])\n",
        "X_train, X_test, y_train, y_test = train_test_split(X, y, test_size=0.2, random_state=42)"
      ],
      "metadata": {
        "id": "q2yXWr6sQNiD"
      },
      "execution_count": 18,
      "outputs": []
    },
    {
      "cell_type": "markdown",
      "metadata": {
        "id": "oiOby6hNu92W"
      },
      "source": [
        "### Baseline (2 балла)\n",
        "\n",
        "В качестве Baseline обучите `DecisionTreeRegressor` из `sklearn`."
      ]
    },
    {
      "cell_type": "code",
      "metadata": {
        "id": "gJIDf3kn1Wfv",
        "colab": {
          "base_uri": "https://localhost:8080/"
        },
        "outputId": "ea46be17-a6e1-44a5-bf89-96ec2ba4c67c"
      },
      "source": [
        "from sklearn.tree import DecisionTreeRegressor\n",
        "regressor = DecisionTreeRegressor(max_depth=5, random_state=42)\n",
        "regressor.fit(X_train, y_train)"
      ],
      "execution_count": 19,
      "outputs": [
        {
          "output_type": "execute_result",
          "data": {
            "text/plain": [
              "DecisionTreeRegressor(max_depth=5, random_state=42)"
            ]
          },
          "metadata": {},
          "execution_count": 19
        }
      ]
    },
    {
      "cell_type": "markdown",
      "metadata": {
        "id": "XUC7NFhw1X41"
      },
      "source": [
        "Проверьте качество на отложенной выборке."
      ]
    },
    {
      "cell_type": "code",
      "metadata": {
        "id": "O_LCiQIN1bzD",
        "colab": {
          "base_uri": "https://localhost:8080/"
        },
        "outputId": "7ce4be37-8320-44fa-fc3f-a29f5bae10d7"
      },
      "source": [
        "from sklearn.model_selection import cross_val_score\n",
        "# R^2\n",
        "regressor.score(X_test, y_test)"
      ],
      "execution_count": 20,
      "outputs": [
        {
          "output_type": "execute_result",
          "data": {
            "text/plain": [
              "0.5143019848499304"
            ]
          },
          "metadata": {},
          "execution_count": 20
        }
      ]
    },
    {
      "cell_type": "markdown",
      "metadata": {
        "id": "3bezBBI7u_oF"
      },
      "source": [
        "### Feature Engineering (2 балла)\n",
        "\n",
        "Часто улучшить модель можно с помощью аккуратного Feature Engineering.\n",
        "\n",
        "Добавим в модель дополнительные признаки:\n",
        "* \"Как часто в этот год и этот месяц появлились объявления\"\n",
        "* \"Как часто в этот год и эту неделю появлялись объявления\""
      ]
    },
    {
      "cell_type": "code",
      "metadata": {
        "id": "_cJ6SBqUKC4C",
        "colab": {
          "base_uri": "https://localhost:8080/"
        },
        "outputId": "d283b499-91d9-4cdb-f0a1-fd7591e321e3"
      },
      "source": [
        "df_orig = pd.read_csv(\"data.csv\", parse_dates=[\"timestamp\"])\n",
        "\n",
        "month_year = (df_orig.timestamp.dt.month + df_orig.timestamp.dt.year * 100)\n",
        "month_year_cnt_map = month_year.value_counts().to_dict()\n",
        "df[\"month_year_cnt\"] = month_year.map(month_year_cnt_map)\n",
        "\n",
        "week_year = (df_orig.timestamp.dt.weekofyear + df_orig.timestamp.dt.year * 100)\n",
        "week_year_cnt_map = week_year.value_counts().to_dict()\n",
        "df[\"week_year_cnt\"] = week_year.map(week_year_cnt_map)"
      ],
      "execution_count": 21,
      "outputs": [
        {
          "output_type": "stream",
          "name": "stderr",
          "text": [
            "/usr/local/lib/python3.7/dist-packages/ipykernel_launcher.py:7: FutureWarning: Series.dt.weekofyear and Series.dt.week have been deprecated.  Please use Series.dt.isocalendar().week instead.\n",
            "  import sys\n"
          ]
        }
      ]
    },
    {
      "cell_type": "markdown",
      "metadata": {
        "id": "pCajk45_KDSz"
      },
      "source": [
        "Добавьте следюущие дополнительные признаки:\n",
        "* Месяц (из колонки `timestamp`)\n",
        "* День недели (из колонки `timestamp`)\n",
        "* Отношение \"этаж / максимальный этаж в здании\" (колонки `floor` и `max_floor`)\n",
        "* Отношение \"площадь кухни / площадь квартиры\" (колонки `kitchen_sq` и `full_sq`)\n",
        "\n",
        "По желанию можно добавить и другие признаки."
      ]
    },
    {
      "cell_type": "code",
      "metadata": {
        "id": "dXZkoUL8Kve6",
        "colab": {
          "base_uri": "https://localhost:8080/"
        },
        "outputId": "a14af8c7-6de9-4307-c92b-83c322a66308"
      },
      "source": [
        "month = df_orig.timestamp.dt.month\n",
        "df[\"month\"] = month\n",
        "\n",
        "week = df_orig.timestamp.dt.week\n",
        "df[\"week\"] = week\n",
        "\n",
        "\n",
        "df[\"floor_ratio\"] = df_orig.floor/df_orig.max_floor\n",
        "\n",
        "df[\"square_ratio\"] = df_orig.kitch_sq/df_orig.full_sq"
      ],
      "execution_count": 23,
      "outputs": [
        {
          "output_type": "stream",
          "name": "stderr",
          "text": [
            "/usr/local/lib/python3.7/dist-packages/ipykernel_launcher.py:4: FutureWarning: Series.dt.weekofyear and Series.dt.week have been deprecated.  Please use Series.dt.isocalendar().week instead.\n",
            "  after removing the cwd from sys.path.\n"
          ]
        }
      ]
    },
    {
      "cell_type": "markdown",
      "metadata": {
        "id": "_-jCowvWLiXZ"
      },
      "source": [
        "Разделите выборку на обучающую и тестовую еще раз (потому что дополнительные признаки созданы для исходной выборки)."
      ]
    },
    {
      "cell_type": "code",
      "metadata": {
        "id": "0f-vO3LcLhdf"
      },
      "source": [
        "import numpy as np\n",
        "df.replace([np.inf, -np.inf], np.nan, inplace=True)\n",
        "df = df.fillna(df.median())\n",
        "X = df\n",
        "X_train, X_test, y_train, y_test = train_test_split(X, y, test_size=0.2, random_state=42)"
      ],
      "execution_count": 41,
      "outputs": []
    },
    {
      "cell_type": "markdown",
      "metadata": {
        "id": "CPtzkpFEvBw9"
      },
      "source": [
        "### Model Selection (3 балла)\n",
        "\n",
        "Посмотрите, какого качества можно добиться если использовать разные модели:\n",
        "* `DecisionTreeRegressor` из `sklearn`\n",
        "* `RandomForestRegressor` из `sklearn`\n",
        "* `CatBoostRegressor`\n",
        "\n",
        "Также вы можете попробовать линейные модели, другие бустинги (`LigthGBM` и `XGBoost`).\n",
        "\n",
        "Почти все библиотеки поддерживают удобный способ подбора гиперпараметров: посмотрите как это делать в [sklearn](https://scikit-learn.org/stable/modules/generated/sklearn.model_selection.GridSearchCV.html) или в [catboost](https://catboost.ai/docs/concepts/python-reference_catboostregressor_grid_search.html).\n",
        "\n",
        "Проверяйте качество каждой модели на тестовой выборке и выберите наилучшую."
      ]
    },
    {
      "cell_type": "code",
      "source": [
        "X_train.isna().sum().sum()"
      ],
      "metadata": {
        "colab": {
          "base_uri": "https://localhost:8080/"
        },
        "id": "eR7wohE6k_Q8",
        "outputId": "f3daff05-c5d2-45dd-868b-47ebaff760b9"
      },
      "execution_count": 42,
      "outputs": [
        {
          "output_type": "execute_result",
          "data": {
            "text/plain": [
              "0"
            ]
          },
          "metadata": {},
          "execution_count": 42
        }
      ]
    },
    {
      "cell_type": "code",
      "metadata": {
        "id": "PZstXx6uNRfE",
        "colab": {
          "base_uri": "https://localhost:8080/"
        },
        "outputId": "495acc69-5072-45c1-fce9-9f4d84999520"
      },
      "source": [
        "from sklearn.model_selection import GridSearchCV\n",
        "\n",
        "n_features = X.shape[1]\n",
        "n_samples = X.shape[0]\n",
        "\n",
        "param_grid = param_grid ={\n",
        "                    'max_depth': range(1,15,2),\n",
        "                    'min_samples_leaf':[1, 0.3,0.5, n_samples//2, n_samples//3, n_samples//5]}\n",
        "regr = DecisionTreeRegressor(random_state=42)\n",
        "g_search = GridSearchCV(regr, cv=3, n_jobs=-1, verbose=5, param_grid = param_grid)\n",
        "g_search.fit(X_train, y_train)\n",
        "\n",
        "print(g_search.best_params_, g_search.best_score_)"
      ],
      "execution_count": 46,
      "outputs": [
        {
          "output_type": "stream",
          "name": "stdout",
          "text": [
            "Fitting 3 folds for each of 42 candidates, totalling 126 fits\n",
            "{'max_depth': 11, 'min_samples_leaf': 1} 0.9954739260151545\n"
          ]
        }
      ]
    },
    {
      "cell_type": "code",
      "source": [
        "from sklearn.ensemble import RandomForestRegressor\n",
        "\n",
        "param_grid = {'max_depth': [5, 10, None], 'n_estimators': [5, 6, 7, 8, 9, 10, 11, 12, 13, 15]}\n",
        "rfr = RandomForestRegressor(random_state = 42)\n",
        "\n",
        "g_search = GridSearchCV(estimator = rfr, param_grid = param_grid, cv = 3, n_jobs = 1, verbose = 0, return_train_score=True)\n",
        "g_search.fit(X_train, y_train);\n",
        "\n",
        "print(g_search.best_params_, g_search.best_score_)"
      ],
      "metadata": {
        "id": "718V71FlgYv2"
      },
      "execution_count": null,
      "outputs": []
    },
    {
      "cell_type": "code",
      "source": [
        "!pip install catboost\n",
        "%%time\n",
        "from catboost import CatBoostRegressor\n",
        "\n",
        "\n",
        "model = CatBoostRegressor()\n",
        "\n",
        "grid = {'learning_rate': [0.03, 0.1],\n",
        "        'depth': [4, 6, 10],\n",
        "        'l2_leaf_reg': [1, 3, 5, 7, 9]}\n",
        "\n",
        "grid_search_result = model.grid_search(grid,\n",
        "                                       X=X_train,\n",
        "                                       y=y_train,\n",
        "                                       plot=True)"
      ],
      "metadata": {
        "id": "uVCPxPjNg18o"
      },
      "execution_count": null,
      "outputs": []
    },
    {
      "cell_type": "markdown",
      "metadata": {
        "id": "JxQnozbtvD6x"
      },
      "source": [
        "### Ensemble v.1 (3 балла)\n",
        "\n",
        "Ансамбли иногда оказываются лучше чем одна большая модель.\n",
        "\n",
        "В колонке `product_type` содержится информация о том, каким является объявление: `Investment` (продажа квартиры как инвестиции) или `OwnerOccupier` (продажа квартиры для жилья). Логично предположить, что если сделать по модели на каждый из этих типов, то качество будет выше.\n",
        "\n",
        "Обучите свои лучшие модели на отдельно на `Investment` и `OwnerOccupier` (т.е. у вас будет `model_invest`, обученная на `(invest_train_X, invest_train_Y)` и `model_owner`, обученная на `(owner_train_X, owner_train_Y)`) и проверьте качество на отложенной выборке (т.е. на исходном `test_split`)."
      ]
    },
    {
      "cell_type": "code",
      "metadata": {
        "id": "HeJOCYa-O_VE"
      },
      "source": [
        "%%time\n",
        "df_investment = df[df.product_type == 0]\n",
        "df_owneroccupier = df[df.prodcut_type == 1]\n",
        "\n",
        "invest_train_X, invest_train_Y, _, _ = train_test_split(X, y, test_size=0.2, random_state=42)\n",
        "owner_train_X, owner_train_Y, _, _ = train_test_split(X, y, test_size=0.2, random_state=42)\n",
        "\n",
        "model_invest = CatBoostRegressor()\n",
        "model_owner = CatBoostRegressor()\n",
        "\n",
        "model_invest.fit(invest_train_X, invest_train_Y)\n",
        "print(\"Investment R^2: \", model_invest.score(X_test, y_test))\n",
        "\n",
        "model_owner.fit(owner_train_X, owner_train_Y)\n",
        "print(\"Owner Occupier R^2: \", model_owner.score(X_test, y_test))"
      ],
      "execution_count": null,
      "outputs": []
    },
    {
      "cell_type": "markdown",
      "metadata": {
        "id": "J8t-klaK2A6s"
      },
      "source": [
        "### (*) Ensemble v.2 (дополнительно, 2 балла)\n",
        "\n",
        "Попробуйте сделать для `Investment` более сложную модель: обучите `CatBoostRegressor` и `HuberRegressor` из `sklearn`, а затем сложите их предсказания с весами `w_1` и `w_2` (выберите веса сами; сумма весов равняется 1)."
      ]
    },
    {
      "cell_type": "code",
      "metadata": {
        "id": "JOKD-l8HuOgM"
      },
      "source": [
        ""
      ],
      "execution_count": null,
      "outputs": []
    }
  ]
}